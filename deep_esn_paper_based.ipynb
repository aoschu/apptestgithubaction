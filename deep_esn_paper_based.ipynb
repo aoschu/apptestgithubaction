{
 "cells": [
  {
   "cell_type": "code",
   "execution_count": 2,
   "id": "ab716eba",
   "metadata": {},
   "outputs": [
    {
     "name": "stdout",
     "output_type": "stream",
     "text": [
      "Block 1 Complete: Libraries imported, seeds set.\n"
     ]
    }
   ],
   "source": [
    "# Block 1: Import Libraries and Set Random Seed\n",
    "import tensorflow as tf\n",
    "import numpy as np\n",
    "import sionna\n",
    "import matplotlib.pyplot as plt\n",
    "from sionna.ofdm import ResourceGrid, ResourceGridMapper\n",
    "from sionna.mimo import StreamManagement\n",
    "from sionna.channel.tr38901 import CDL, AntennaArray\n",
    "from sionna.channel import subcarrier_frequencies, cir_to_ofdm_channel, ApplyOFDMChannel\n",
    "from sionna.utils import ebnodb2no\n",
    "from sionna.fec.ldpc.encoding import LDPC5GEncoder\n",
    "from sionna.fec.ldpc.decoding import LDPC5GDecoder\n",
    "from sionna.mapping import Mapper, Demapper\n",
    "from sionna.utils import BinarySource\n",
    "\n",
    "# Set random seeds for reproducibility\n",
    "sionna.config.seed = 42\n",
    "tf.random.set_seed(42)\n",
    "np.random.seed(42)\n",
    "\n",
    "print(\"Block 1 Complete: Libraries imported, seeds set.\")"
   ]
  },
  {
   "cell_type": "code",
   "execution_count": 6,
   "id": "d45b89bf",
   "metadata": {},
   "outputs": [
    {
     "name": "stdout",
     "output_type": "stream",
     "text": [
      "Block 2 Complete: MIMO-OFDM system and CDL channel set up.\n",
      "FFT size: 256\n",
      "Cyclic Prefix: 40\n",
      "Tx Antennas: 4 | Rx Antennas: 4\n"
     ]
    }
   ],
   "source": [
    "# Block 2: Revised System Parameters and MIMO-OFDM Setup\n",
    "import numpy as np\n",
    "import sionna\n",
    "from sionna.ofdm import ResourceGrid, ResourceGridMapper\n",
    "from sionna.mimo import StreamManagement\n",
    "from sionna.channel.tr38901 import CDL, AntennaArray\n",
    "from sionna.channel import subcarrier_frequencies\n",
    "from sionna.utils import BinarySource\n",
    "\n",
    "num_ut = 1\n",
    "num_bs = 1\n",
    "num_ut_ant = 4  # N_t\n",
    "num_bs_ant = 4  # N_r\n",
    "num_streams_per_tx = num_ut_ant\n",
    "rx_tx_association = np.array([[1]])\n",
    "sm = StreamManagement(rx_tx_association, num_streams_per_tx)\n",
    "\n",
    "# Resource Grid: 14 OFDM symbols, 256 subcarriers, 16-QAM\n",
    "rg = ResourceGrid(num_ofdm_symbols=14,\n",
    "                              fft_size=256,\n",
    "                              subcarrier_spacing=15e3,\n",
    "                              num_tx=1,\n",
    "                              num_streams_per_tx=num_streams_per_tx,\n",
    "                              cyclic_prefix_length=40,\n",
    "                              num_guard_carriers=[5,6],\n",
    "                              dc_null=True,\n",
    "                              pilot_pattern=\"kronecker\",\n",
    "                              pilot_ofdm_symbol_indices=[2,11])\n",
    "\n",
    "# Carrier & Antenna setup\n",
    "carrier_frequency = 2.6e9\n",
    "ut_array = AntennaArray(num_rows=1, num_cols=int(num_ut_ant/2),\n",
    "                        polarization=\"dual\", polarization_type=\"cross\",\n",
    "                        antenna_pattern=\"38.901\", carrier_frequency=carrier_frequency)\n",
    "bs_array = AntennaArray(num_rows=1, num_cols=int(num_bs_ant/2),\n",
    "                        polarization=\"dual\", polarization_type=\"cross\",\n",
    "                        antenna_pattern=\"38.901\", carrier_frequency=carrier_frequency)\n",
    "\n",
    "# CDL Channel Model\n",
    "delay_spread = 300e-9\n",
    "cdl_model = \"B\"\n",
    "speed = 10  # m/s\n",
    "direction = \"uplink\"\n",
    "cdl = CDL(model=cdl_model,\n",
    "          delay_spread=delay_spread,\n",
    "          carrier_frequency=carrier_frequency,\n",
    "          ut_array=ut_array,\n",
    "          bs_array=bs_array,\n",
    "          direction=direction,\n",
    "          min_speed=speed)\n",
    "\n",
    "print(\"Block 2 Complete: MIMO-OFDM system and CDL channel set up.\")\n",
    "print(\"FFT size:\", rg.fft_size)\n",
    "print(\"Cyclic Prefix:\", rg.cyclic_prefix_length)\n",
    "print(\"Tx Antennas:\", num_ut_ant, \"| Rx Antennas:\", num_bs_ant)"
   ]
  },
  {
   "cell_type": "code",
   "execution_count": 7,
   "id": "703c1d87",
   "metadata": {},
   "outputs": [
    {
     "name": "stdout",
     "output_type": "stream",
     "text": [
      "Block 3 Complete: Bits → LDPC → 16-QAM → ResourceGrid\n",
      "Shape of bits (b): (4, 1, 4, 5856)\n",
      "Shape of encoded bits (c): (4, 1, 4, 11712)\n",
      "Shape of mapped symbols (x): (4, 1, 4, 2928)\n",
      "Shape of OFDM-mapped grid (x_rg): (4, 1, 4, 14, 256)\n"
     ]
    }
   ],
   "source": [
    "# Block 3: Signal Generation and Encoding\n",
    "num_bits_per_symbol = 4  # 16-QAM\n",
    "coderate = 0.5\n",
    "batch_size = 4  # Q = 4 as per paper\n",
    "\n",
    "# Calculate number of bits\n",
    "n = int(rg.num_data_symbols * num_bits_per_symbol)\n",
    "k = int(n * coderate)\n",
    "\n",
    "# Initialize modules\n",
    "binary_source = BinarySource()\n",
    "encoder = LDPC5GEncoder(k, n)\n",
    "mapper = Mapper(\"qam\", num_bits_per_symbol)\n",
    "rg_mapper = ResourceGridMapper(rg)\n",
    "\n",
    "# Generate bits, encode, and map to symbols\n",
    "b = binary_source([batch_size, 1, rg.num_streams_per_tx, k])\n",
    "c = encoder(b)\n",
    "x = mapper(c)\n",
    "x_rg = rg_mapper(x)\n",
    "\n",
    "print(\"Block 3 Complete: Bits → LDPC → 16-QAM → ResourceGrid\")\n",
    "print(\"Shape of bits (b):\", b.shape)\n",
    "print(\"Shape of encoded bits (c):\", c.shape)\n",
    "print(\"Shape of mapped symbols (x):\", x.shape)\n",
    "print(\"Shape of OFDM-mapped grid (x_rg):\", x_rg.shape)"
   ]
  },
  {
   "cell_type": "code",
   "execution_count": 8,
   "id": "ab640d7d",
   "metadata": {},
   "outputs": [
    {
     "name": "stdout",
     "output_type": "stream",
     "text": [
      "IFFT complete: x_time_pa shape: (4, 1, 4, 14, 256)\n",
      "PA applied: x_pa shape: (4, 1, 4, 14, 256)\n",
      "Block 4 Complete: Channel output shape y_rc: (4, 1, 4, 14, 256)\n"
     ]
    }
   ],
   "source": [
    "# Block 4: Nonlinear PA and Channel Application\n",
    "import tensorflow as tf\n",
    "from sionna.utils import ebnodb2no\n",
    "from sionna.channel import ApplyOFDMChannel\n",
    "\n",
    "def rapp_pa(signal, A=1.0, p=3.0):\n",
    "    abs_signal = tf.abs(signal)\n",
    "    gain = A / tf.pow(1 + tf.pow(abs_signal / A, 2 * p), 1 / (2 * p))\n",
    "    angle = tf.math.angle(signal)\n",
    "    zero = tf.zeros_like(angle)\n",
    "    phase = tf.exp(tf.complex(zero, angle))\n",
    "    return tf.cast(gain, tf.complex64) * phase\n",
    "\n",
    "# IFFT to time domain\n",
    "x_time_pa = tf.signal.ifft(tf.cast(x_rg, tf.complex64))  # [4, 1, 4, 14, 256]\n",
    "print(\"IFFT complete: x_time_pa shape:\", x_time_pa.shape)\n",
    "\n",
    "# Apply Rapp PA\n",
    "x_pa = rapp_pa(x_time_pa, A=1.0, p=3.0)\n",
    "print(\"PA applied: x_pa shape:\", x_pa.shape)\n",
    "\n",
    "# Channel preparation\n",
    "frequencies = subcarrier_frequencies(rg.fft_size, rg.subcarrier_spacing)\n",
    "cir = cdl(batch_size, rg.num_ofdm_symbols, 1 / rg.ofdm_symbol_duration)\n",
    "h_freq = cir_to_ofdm_channel(frequencies, *cir, normalize=True)\n",
    "\n",
    "# Apply channel with AWGN\n",
    "ebno_db = 15.0\n",
    "no = ebnodb2no(ebno_db, num_bits_per_symbol, coderate, rg)\n",
    "channel = ApplyOFDMChannel(add_awgn=True)\n",
    "y_rc = channel([x_pa, h_freq, no])  # [4, 1, 4, 14, 256]\n",
    "\n",
    "print(\"Block 4 Complete: Channel output shape y_rc:\", y_rc.shape)"
   ]
  },
  {
   "cell_type": "code",
   "execution_count": 13,
   "id": "32a68015",
   "metadata": {},
   "outputs": [
    {
     "name": "stdout",
     "output_type": "stream",
     "text": [
      "Block 5 Complete: RC1 input and targets prepared\n",
      "x_input_rc1 shape: (4, 3457, 128, 2)\n",
      "x_time_target_ri shape: (4, 3584, 2)\n",
      "z_target shape: (4, 2928)\n",
      "Normalization parameters: mean_rc1 = 0.00029930193 std_rc1 = 0.10280468\n"
     ]
    }
   ],
   "source": [
    "# Block 5 (Revised): Prepare RC Inputs and Targets\n",
    "import tensorflow as tf\n",
    "\n",
    "# Time-domain received signal\n",
    "y_td_rc = tf.signal.ifft(tf.cast(y_rc, tf.complex64))  # [4, 1, 4, 14, 256]\n",
    "\n",
    "# Select stream 0, antenna 0\n",
    "y_td_flat = tf.reshape(y_td_rc[:, 0, 0, :, :], [batch_size, -1])  # [4, 3584]\n",
    "window_size = 128\n",
    "y_td_windowed = tf.signal.frame(y_td_flat, window_size, 1, axis=1)  # [4, 3457, 128]\n",
    "\n",
    "# Stack real and imaginary parts for input\n",
    "x_input_rc1 = tf.stack([tf.math.real(y_td_windowed), tf.math.imag(y_td_windowed)], axis=-1)  # [4, 3457, 128, 2]\n",
    "\n",
    "# Normalize input\n",
    "mean_rc1 = tf.reduce_mean(x_input_rc1)\n",
    "std_rc1 = tf.math.reduce_std(x_input_rc1)\n",
    "x_input_rc1 = (x_input_rc1 - mean_rc1) / std_rc1\n",
    "\n",
    "# Prepare ground truth\n",
    "x_time_target = tf.signal.ifft(tf.cast(x_rg, tf.complex64))  # [4, 1, 4, 14, 256]\n",
    "x_time_target_flat = tf.reshape(x_time_target[:, 0, 0, :, :], [batch_size, -1])  # [4, 3584]\n",
    "x_time_target_ri = tf.stack([tf.math.real(x_time_target_flat), tf.math.imag(x_time_target_flat)], axis=-1)  # [4, 3584, 2]\n",
    "\n",
    "z_target = tf.reshape(x[:, 0, 0, :], [batch_size, -1])  # [4, 2928]\n",
    "\n",
    "print(\"Block 5 Complete: RC1 input and targets prepared\")\n",
    "print(\"x_input_rc1 shape:\", x_input_rc1.shape)\n",
    "print(\"x_time_target_ri shape:\", x_time_target_ri.shape)\n",
    "print(\"z_target shape:\", z_target.shape)\n",
    "print(\"Normalization parameters: mean_rc1 =\", mean_rc1.numpy(), \"std_rc1 =\", std_rc1.numpy())"
   ]
  },
  {
   "cell_type": "code",
   "execution_count": 19,
   "id": "23ca1643",
   "metadata": {},
   "outputs": [
    {
     "name": "stdout",
     "output_type": "stream",
     "text": [
      "Block 6 Complete: TimeFreqRC model and ALS optimization defined.\n"
     ]
    }
   ],
   "source": [
    "# Block 6 (Revised): Define Time-Frequency RC Model\n",
    "import tensorflow as tf\n",
    "\n",
    "class TimeFreqRC(tf.keras.Model):\n",
    "    def __init__(self, input_dim, reservoir_size, output_length, sequence_length, leak_rate=1.0, dropout_rate=0.0):\n",
    "        \"\"\"Initialize Time-Frequency RC model.\"\"\"\n",
    "        super().__init__()\n",
    "        self.reservoir_size = reservoir_size\n",
    "        self.output_length = output_length  # Frequency-domain symbols (2928)\n",
    "        self.sequence_length = sequence_length  # Time-domain samples (3584)\n",
    "        self.leak_rate = leak_rate\n",
    "        self.dropout_rate = dropout_rate\n",
    "\n",
    "        # Fixed weights\n",
    "        self.Win = tf.Variable(tf.random.uniform([input_dim, reservoir_size]) * 0.1, trainable=False)\n",
    "        Wres_init = tf.random.normal([reservoir_size, reservoir_size]) * 0.05\n",
    "        eigvals = tf.abs(tf.linalg.eigvals(Wres_init))\n",
    "        self.Wres = tf.Variable(Wres_init / tf.reduce_max(eigvals), trainable=False)\n",
    "\n",
    "        # Trainable weights\n",
    "        self.W_out = tf.Variable(tf.random.normal([reservoir_size, 2], stddev=0.01))\n",
    "        self.phase_angles = tf.Variable(tf.zeros([output_length]), trainable=True)\n",
    "\n",
    "    def call(self, x, window_size=128, training=True):\n",
    "        \"\"\"Compute reservoir states and time-domain output.\"\"\"\n",
    "        B, T, W, C = x.shape  # [4, 3457, 128, 2]\n",
    "        h = tf.zeros([B, self.reservoir_size], dtype=tf.float32)\n",
    "        states = []\n",
    "        \n",
    "        # Process windowed input for full sequence length\n",
    "        for t in range(self.sequence_length):\n",
    "            if t < T:\n",
    "                xt = x[:, min(t, T-1), :, :]  # [B, 128, 2]\n",
    "            else:\n",
    "                xt = tf.zeros([B, window_size, C], dtype=tf.float32)\n",
    "            xt_flat = tf.reshape(xt, [B, -1])  # [B, 128*2]\n",
    "            preact = tf.matmul(xt_flat, self.Win) + tf.matmul(h, self.Wres)\n",
    "            h = (1 - self.leak_rate) * h + self.leak_rate * tf.math.tanh(preact)\n",
    "            if training and self.dropout_rate > 0:\n",
    "                h = tf.nn.dropout(h, rate=self.dropout_rate)\n",
    "            states.append(h)\n",
    "        \n",
    "        S = tf.stack(states, axis=1)  # [B, 3584, R]\n",
    "        y_time = tf.matmul(S, self.W_out)  # [B, 3584, 2]\n",
    "        return y_time, S\n",
    "\n",
    "# ALS optimization\n",
    "def als_optimization(model, S, target_time, target_freq, num_iterations=5):\n",
    "    \"\"\"Optimize W_out and phase_angles using ALS.\"\"\"\n",
    "    # S: [B, T, R], target_time: [B, T, 2], target_freq: [B, F]\n",
    "    W_tout = tf.linalg.pinv(S) @ target_time  # [B, R, 2]\n",
    "    w_fout = tf.ones([model.output_length], dtype=tf.float32)\n",
    "    \n",
    "    for _ in range(num_iterations):\n",
    "        y_time = tf.matmul(S, W_tout)  # [B, T, 2]\n",
    "        y_complex = tf.complex(y_time[..., 0], y_time[..., 1])  # [B, T]\n",
    "        z_pred = tf.signal.fft(y_complex)[:, :model.output_length]  # [B, F]\n",
    "        phase_angles = -tf.math.angle(tf.reduce_sum(tf.math.conj(target_freq) * z_pred, axis=0))\n",
    "        w_fout = tf.complex(tf.cos(phase_angles), tf.sin(phase_angles))\n",
    "        z_corr = z_pred * w_fout\n",
    "        W_tout = tf.linalg.pinv(S) @ target_time\n",
    "    \n",
    "    model.W_out.assign(W_tout[0])  # Assign for first batch\n",
    "    model.phase_angles.assign(phase_angles)\n",
    "    return W_tout, w_fout\n",
    "\n",
    "print(\"Block 6 Complete: TimeFreqRC model and ALS optimization defined.\")"
   ]
  },
  {
   "cell_type": "code",
   "execution_count": 20,
   "id": "d0f06b35",
   "metadata": {},
   "outputs": [
    {
     "name": "stdout",
     "output_type": "stream",
     "text": [
      "Block 7 Complete: RC1 trained\n",
      "Total Loss: 0.5838 | Waveform Loss: 0.0019 | QAM Loss: 1.1638\n"
     ]
    }
   ],
   "source": [
    "# Block 7 (Revised): Train RC1\n",
    "import tensorflow as tf\n",
    "\n",
    "# Instantiate RC1\n",
    "rc1 = TimeFreqRC(input_dim=128*2, reservoir_size=128, output_length=2928, sequence_length=3584, leak_rate=0.3, dropout_rate=0.1)\n",
    "\n",
    "# Compute reservoir states\n",
    "y_time_rc1, S_rc1 = rc1(x_input_rc1, window_size=128, training=True)  # y_time_rc1: [4, 3584, 2], S_rc1: [4, 3584, 128]\n",
    "\n",
    "# Reshape states for ALS\n",
    "S_rc1_flat = tf.reshape(S_rc1, [batch_size, -1, 128])  # [4, 3584, 128]\n",
    "\n",
    "# Apply ALS optimization\n",
    "W_tout_rc1, w_fout_rc1 = als_optimization(rc1, S_rc1_flat, x_time_target_ri, z_target, num_iterations=5)\n",
    "\n",
    "# Compute losses\n",
    "y_ri_rc1 = tf.matmul(S_rc1_flat, rc1.W_out)  # [4, 3584, 2]\n",
    "waveform_loss = tf.reduce_mean(tf.square(y_ri_rc1 - x_time_target_ri))\n",
    "y_complex_rc1 = tf.complex(y_ri_rc1[..., 0], y_ri_rc1[..., 1])  # [4, 3584]\n",
    "z_pred_rc1 = tf.signal.fft(y_complex_rc1)[:, :2928]  # [4, 2928]\n",
    "phase_rc1 = tf.complex(tf.cos(rc1.phase_angles), tf.sin(rc1.phase_angles))  # [2928]\n",
    "z_corr_rc1 = z_pred_rc1 * phase_rc1  # [4, 2928]\n",
    "qam_loss = tf.reduce_mean(tf.square(tf.math.real(z_corr_rc1 - z_target)) + tf.square(tf.math.imag(z_corr_rc1 - z_target)))\n",
    "total_loss = waveform_loss + 0.5 * qam_loss\n",
    "\n",
    "print(\"Block 7 Complete: RC1 trained\")\n",
    "print(f\"Total Loss: {total_loss:.4f} | Waveform Loss: {waveform_loss:.4f} | QAM Loss: {qam_loss:.4f}\")"
   ]
  },
  {
   "cell_type": "code",
   "execution_count": 24,
   "id": "9afc69ba",
   "metadata": {},
   "outputs": [
    {
     "name": "stdout",
     "output_type": "stream",
     "text": [
      "Block 8 Complete: RC2 input prepared\n",
      "x_input_rc2 shape: (4, 3457, 128, 2)\n",
      "x_time_target_ri shape: (4, 3584, 2)\n",
      "z_target shape: (4, 2928)\n",
      "Normalization parameters: mean_rc2 = -8.409324e-05 std_rc2 = 0.011528453\n"
     ]
    }
   ],
   "source": [
    "# Block 8 (Revised): Prepare RC2 Input\n",
    "import tensorflow as tf\n",
    "\n",
    "# Compute frequency-domain residual\n",
    "residual_z1 = z_target - z_corr_rc1  # [4, 2928]\n",
    "\n",
    "# Pad residual to match time-domain length for IFFT\n",
    "residual_z1_padded = tf.pad(residual_z1, paddings=[[0, 0], [0, 656]])  # [4, 3584]\n",
    "\n",
    "# Transform to time domain\n",
    "x_time_residual2 = tf.signal.ifft(residual_z1_padded)  # [4, 3584]\n",
    "\n",
    "# Apply 128-sample window\n",
    "x_time_residual2_windowed = tf.signal.frame(x_time_residual2, frame_length=128, frame_step=1, axis=1)  # [4, 3457, 128]\n",
    "\n",
    "# Stack real and imaginary parts\n",
    "x_input_rc2 = tf.stack([tf.math.real(x_time_residual2_windowed), tf.math.imag(x_time_residual2_windowed)], axis=-1)  # [4, 3457, 128, 2]\n",
    "\n",
    "# Normalize input\n",
    "mean_rc2 = tf.reduce_mean(x_input_rc2)\n",
    "std_rc2 = tf.math.reduce_std(x_input_rc2)\n",
    "x_input_rc2 = (x_input_rc2 - mean_rc2) / std_rc2\n",
    "\n",
    "print(\"Block 8 Complete: RC2 input prepared\")\n",
    "print(\"x_input_rc2 shape:\", x_input_rc2.shape)\n",
    "print(\"x_time_target_ri shape:\", x_time_target_ri.shape)\n",
    "print(\"z_target shape:\", z_target.shape)\n",
    "print(\"Normalization parameters: mean_rc2 =\", mean_rc2.numpy(), \"std_rc2 =\", std_rc2.numpy())"
   ]
  },
  {
   "cell_type": "code",
   "execution_count": 25,
   "id": "2fbb193a",
   "metadata": {},
   "outputs": [
    {
     "name": "stdout",
     "output_type": "stream",
     "text": [
      "Block 9 Complete: RC2 trained\n",
      "Total Loss: 0.6096 | Waveform Loss: 0.0019 | QAM Loss: 1.2153\n"
     ]
    }
   ],
   "source": [
    "# Block 9: Train RC2\n",
    "import tensorflow as tf\n",
    "\n",
    "# Instantiate RC2\n",
    "rc2 = TimeFreqRC(input_dim=128*2, reservoir_size=128, output_length=2928, sequence_length=3584, leak_rate=0.3, dropout_rate=0.1)\n",
    "\n",
    "# Compute reservoir states\n",
    "y_time_rc2, S_rc2 = rc2(x_input_rc2, window_size=128, training=True)  # y_time_rc2: [4, 3584, 2], S_rc2: [4, 3584, 128]\n",
    "\n",
    "# Reshape states for ALS\n",
    "S_rc2_flat = tf.reshape(S_rc2, [batch_size, -1, 128])  # [4, 3584, 128]\n",
    "\n",
    "# Apply ALS optimization\n",
    "W_tout_rc2, w_fout_rc2 = als_optimization(rc2, S_rc2_flat, x_time_target_ri, z_target, num_iterations=5)\n",
    "\n",
    "# Compute losses\n",
    "y_ri_rc2 = tf.matmul(S_rc2_flat, rc2.W_out)  # [4, 3584, 2]\n",
    "waveform_loss = tf.reduce_mean(tf.square(y_ri_rc2 - x_time_target_ri))\n",
    "y_complex_rc2 = tf.complex(y_ri_rc2[..., 0], y_ri_rc2[..., 1])  # [4, 3584]\n",
    "z_pred_rc2 = tf.signal.fft(y_complex_rc2)[:, :2928]  # [4, 2928]\n",
    "phase_rc2 = tf.complex(tf.cos(rc2.phase_angles), tf.sin(rc2.phase_angles))  # [2928]\n",
    "z_corr_rc2 = z_pred_rc2 * phase_rc2  # [4, 2928]\n",
    "qam_loss = tf.reduce_mean(tf.square(tf.math.real(z_corr_rc2 - z_target)) + tf.square(tf.math.imag(z_corr_rc2 - z_target)))\n",
    "total_loss = waveform_loss + 0.5 * qam_loss\n",
    "\n",
    "print(\"Block 9 Complete: RC2 trained\")\n",
    "print(f\"Total Loss: {total_loss:.4f} | Waveform Loss: {waveform_loss:.4f} | QAM Loss: {qam_loss:.4f}\")"
   ]
  },
  {
   "cell_type": "code",
   "execution_count": 26,
   "id": "19d757ee",
   "metadata": {},
   "outputs": [
    {
     "name": "stdout",
     "output_type": "stream",
     "text": [
      "Block 10 Complete: RC3 input prepared\n",
      "x_input_rc3 shape: (4, 3457, 128, 2)\n",
      "x_time_target_ri shape: (4, 3584, 2)\n",
      "z_target shape: (4, 2928)\n",
      "Normalization parameters: mean_rc3 = 5.200019e-05 std_rc3 = 0.01177334\n"
     ]
    }
   ],
   "source": [
    "# Block 10: Prepare RC3 Input\n",
    "import tensorflow as tf\n",
    "\n",
    "# Compute frequency-domain residual\n",
    "residual_z2 = z_target - z_corr_rc2  # [4, 2928]\n",
    "\n",
    "# Pad residual to match time-domain length for IFFT\n",
    "residual_z2_padded = tf.pad(residual_z2, paddings=[[0, 0], [0, 656]])  # [4, 3584]\n",
    "\n",
    "# Transform to time domain\n",
    "x_time_residual3 = tf.signal.ifft(residual_z2_padded)  # [4, 3584]\n",
    "\n",
    "# Apply 128-sample window\n",
    "x_time_residual3_windowed = tf.signal.frame(x_time_residual3, frame_length=128, frame_step=1, axis=1)  # [4, 3457, 128]\n",
    "\n",
    "# Stack real and imaginary parts\n",
    "x_input_rc3 = tf.stack([tf.math.real(x_time_residual3_windowed), tf.math.imag(x_time_residual3_windowed)], axis=-1)  # [4, 3457, 128, 2]\n",
    "\n",
    "# Normalize input\n",
    "mean_rc3 = tf.reduce_mean(x_input_rc3)\n",
    "std_rc3 = tf.math.reduce_std(x_input_rc3)\n",
    "x_input_rc3 = (x_input_rc3 - mean_rc3) / std_rc3\n",
    "\n",
    "print(\"Block 10 Complete: RC3 input prepared\")\n",
    "print(\"x_input_rc3 shape:\", x_input_rc3.shape)\n",
    "print(\"x_time_target_ri shape:\", x_time_target_ri.shape)\n",
    "print(\"z_target shape:\", z_target.shape)\n",
    "print(\"Normalization parameters: mean_rc3 =\", mean_rc3.numpy(), \"std_rc3 =\", std_rc3.numpy())"
   ]
  },
  {
   "cell_type": "code",
   "execution_count": 27,
   "id": "eee8b041",
   "metadata": {},
   "outputs": [
    {
     "name": "stdout",
     "output_type": "stream",
     "text": [
      "Block 11 Complete: RC3 trained\n",
      "Total Loss: 0.6686 | Waveform Loss: 0.0019 | QAM Loss: 1.3333\n"
     ]
    }
   ],
   "source": [
    "# Block 11: Train RC3\n",
    "import tensorflow as tf\n",
    "\n",
    "# Instantiate RC3\n",
    "rc3 = TimeFreqRC(input_dim=128*2, reservoir_size=128, output_length=2928, sequence_length=3584, leak_rate=0.3, dropout_rate=0.1)\n",
    "\n",
    "# Compute reservoir states\n",
    "y_time_rc3, S_rc3 = rc3(x_input_rc3, window_size=128, training=True)  # y_time_rc3: [4, 3584, 2], S_rc3: [4, 3584, 128]\n",
    "\n",
    "# Reshape states for ALS\n",
    "S_rc3_flat = tf.reshape(S_rc3, [batch_size, -1, 128])  # [4, 3584, 128]\n",
    "\n",
    "# Apply ALS optimization\n",
    "W_tout_rc3, w_fout_rc3 = als_optimization(rc3, S_rc3_flat, x_time_target_ri, z_target, num_iterations=5)\n",
    "\n",
    "# Compute losses\n",
    "y_ri_rc3 = tf.matmul(S_rc3_flat, rc3.W_out)  # [4, 3584, 2]\n",
    "waveform_loss = tf.reduce_mean(tf.square(y_ri_rc3 - x_time_target_ri))\n",
    "y_complex_rc3 = tf.complex(y_ri_rc3[..., 0], y_ri_rc3[..., 1])  # [4, 3584]\n",
    "z_pred_rc3 = tf.signal.fft(y_complex_rc3)[:, :2928]  # [4, 2928]\n",
    "phase_rc3 = tf.complex(tf.cos(rc3.phase_angles), tf.sin(rc3.phase_angles))  # [2928]\n",
    "z_corr_rc3 = z_pred_rc3 * phase_rc3  # [4, 2928]\n",
    "qam_loss = tf.reduce_mean(tf.square(tf.math.real(z_corr_rc3 - z_target)) + tf.square(tf.math.imag(z_corr_rc3 - z_target)))\n",
    "total_loss = waveform_loss + 0.5 * qam_loss\n",
    "\n",
    "print(\"Block 11 Complete: RC3 trained\")\n",
    "print(f\"Total Loss: {total_loss:.4f} | Waveform Loss: {waveform_loss:.4f} | QAM Loss: {qam_loss:.4f}\")"
   ]
  },
  {
   "cell_type": "code",
   "execution_count": null,
   "id": "468a5d0a",
   "metadata": {},
   "outputs": [],
   "source": []
  },
  {
   "cell_type": "code",
   "execution_count": null,
   "id": "a8a324a7",
   "metadata": {},
   "outputs": [],
   "source": []
  }
 ],
 "metadata": {
  "kernelspec": {
   "display_name": "sionna_test",
   "language": "python",
   "name": "python3"
  },
  "language_info": {
   "codemirror_mode": {
    "name": "ipython",
    "version": 3
   },
   "file_extension": ".py",
   "mimetype": "text/x-python",
   "name": "python",
   "nbconvert_exporter": "python",
   "pygments_lexer": "ipython3",
   "version": "3.10.15"
  }
 },
 "nbformat": 4,
 "nbformat_minor": 5
}
